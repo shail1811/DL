{
  "nbformat": 4,
  "nbformat_minor": 0,
  "metadata": {
    "colab": {
      "name": "AirQuality.ipynb",
      "provenance": [],
      "collapsed_sections": [],
      "authorship_tag": "ABX9TyPY2Ob+xw+jsNGBp6RXSDec",
      "include_colab_link": true
    },
    "kernelspec": {
      "name": "python3",
      "display_name": "Python 3"
    },
    "accelerator": "GPU"
  },
  "cells": [
    {
      "cell_type": "markdown",
      "metadata": {
        "id": "view-in-github",
        "colab_type": "text"
      },
      "source": [
        "<a href=\"https://colab.research.google.com/github/shail1811/DL/blob/master/AirQuality.ipynb\" target=\"_parent\"><img src=\"https://colab.research.google.com/assets/colab-badge.svg\" alt=\"Open In Colab\"/></a>"
      ]
    },
    {
      "cell_type": "code",
      "metadata": {
        "id": "hTvaEEkQmgFH",
        "colab_type": "code",
        "colab": {}
      },
      "source": [
        "import numpy as np\n",
        "import pandas as pd"
      ],
      "execution_count": 14,
      "outputs": []
    },
    {
      "cell_type": "code",
      "metadata": {
        "id": "nhwmTUGhvL6P",
        "colab_type": "code",
        "colab": {
          "base_uri": "https://localhost:8080/",
          "height": 422
        },
        "outputId": "c6a7c0ed-5571-4f1c-9667-274b429dd11c"
      },
      "source": [
        "dataset = pd.read_excel('/content/AirQualityUCI.xlsx')\n",
        "dataset = dataset.drop(columns=['Date' ,'Time'] )\n",
        "dataset"
      ],
      "execution_count": 20,
      "outputs": [
        {
          "output_type": "execute_result",
          "data": {
            "text/html": [
              "<div>\n",
              "<style scoped>\n",
              "    .dataframe tbody tr th:only-of-type {\n",
              "        vertical-align: middle;\n",
              "    }\n",
              "\n",
              "    .dataframe tbody tr th {\n",
              "        vertical-align: top;\n",
              "    }\n",
              "\n",
              "    .dataframe thead th {\n",
              "        text-align: right;\n",
              "    }\n",
              "</style>\n",
              "<table border=\"1\" class=\"dataframe\">\n",
              "  <thead>\n",
              "    <tr style=\"text-align: right;\">\n",
              "      <th></th>\n",
              "      <th>CO(GT)</th>\n",
              "      <th>PT08.S1(CO)</th>\n",
              "      <th>NMHC(GT)</th>\n",
              "      <th>C6H6(GT)</th>\n",
              "      <th>PT08.S2(NMHC)</th>\n",
              "      <th>NOx(GT)</th>\n",
              "      <th>PT08.S3(NOx)</th>\n",
              "      <th>NO2(GT)</th>\n",
              "      <th>PT08.S4(NO2)</th>\n",
              "      <th>PT08.S5(O3)</th>\n",
              "      <th>T</th>\n",
              "      <th>RH</th>\n",
              "      <th>AH</th>\n",
              "    </tr>\n",
              "  </thead>\n",
              "  <tbody>\n",
              "    <tr>\n",
              "      <th>0</th>\n",
              "      <td>2.6</td>\n",
              "      <td>1360.00</td>\n",
              "      <td>150</td>\n",
              "      <td>11.881723</td>\n",
              "      <td>1045.50</td>\n",
              "      <td>166.0</td>\n",
              "      <td>1056.25</td>\n",
              "      <td>113.0</td>\n",
              "      <td>1692.00</td>\n",
              "      <td>1267.50</td>\n",
              "      <td>13.600</td>\n",
              "      <td>48.875001</td>\n",
              "      <td>0.757754</td>\n",
              "    </tr>\n",
              "    <tr>\n",
              "      <th>1</th>\n",
              "      <td>2.0</td>\n",
              "      <td>1292.25</td>\n",
              "      <td>112</td>\n",
              "      <td>9.397165</td>\n",
              "      <td>954.75</td>\n",
              "      <td>103.0</td>\n",
              "      <td>1173.75</td>\n",
              "      <td>92.0</td>\n",
              "      <td>1558.75</td>\n",
              "      <td>972.25</td>\n",
              "      <td>13.300</td>\n",
              "      <td>47.700000</td>\n",
              "      <td>0.725487</td>\n",
              "    </tr>\n",
              "    <tr>\n",
              "      <th>2</th>\n",
              "      <td>2.2</td>\n",
              "      <td>1402.00</td>\n",
              "      <td>88</td>\n",
              "      <td>8.997817</td>\n",
              "      <td>939.25</td>\n",
              "      <td>131.0</td>\n",
              "      <td>1140.00</td>\n",
              "      <td>114.0</td>\n",
              "      <td>1554.50</td>\n",
              "      <td>1074.00</td>\n",
              "      <td>11.900</td>\n",
              "      <td>53.975000</td>\n",
              "      <td>0.750239</td>\n",
              "    </tr>\n",
              "    <tr>\n",
              "      <th>3</th>\n",
              "      <td>2.2</td>\n",
              "      <td>1375.50</td>\n",
              "      <td>80</td>\n",
              "      <td>9.228796</td>\n",
              "      <td>948.25</td>\n",
              "      <td>172.0</td>\n",
              "      <td>1092.00</td>\n",
              "      <td>122.0</td>\n",
              "      <td>1583.75</td>\n",
              "      <td>1203.25</td>\n",
              "      <td>11.000</td>\n",
              "      <td>60.000000</td>\n",
              "      <td>0.786713</td>\n",
              "    </tr>\n",
              "    <tr>\n",
              "      <th>4</th>\n",
              "      <td>1.6</td>\n",
              "      <td>1272.25</td>\n",
              "      <td>51</td>\n",
              "      <td>6.518224</td>\n",
              "      <td>835.50</td>\n",
              "      <td>131.0</td>\n",
              "      <td>1205.00</td>\n",
              "      <td>116.0</td>\n",
              "      <td>1490.00</td>\n",
              "      <td>1110.00</td>\n",
              "      <td>11.150</td>\n",
              "      <td>59.575001</td>\n",
              "      <td>0.788794</td>\n",
              "    </tr>\n",
              "    <tr>\n",
              "      <th>...</th>\n",
              "      <td>...</td>\n",
              "      <td>...</td>\n",
              "      <td>...</td>\n",
              "      <td>...</td>\n",
              "      <td>...</td>\n",
              "      <td>...</td>\n",
              "      <td>...</td>\n",
              "      <td>...</td>\n",
              "      <td>...</td>\n",
              "      <td>...</td>\n",
              "      <td>...</td>\n",
              "      <td>...</td>\n",
              "      <td>...</td>\n",
              "    </tr>\n",
              "    <tr>\n",
              "      <th>9352</th>\n",
              "      <td>3.1</td>\n",
              "      <td>1314.25</td>\n",
              "      <td>-200</td>\n",
              "      <td>13.529605</td>\n",
              "      <td>1101.25</td>\n",
              "      <td>471.7</td>\n",
              "      <td>538.50</td>\n",
              "      <td>189.8</td>\n",
              "      <td>1374.25</td>\n",
              "      <td>1728.50</td>\n",
              "      <td>21.850</td>\n",
              "      <td>29.250000</td>\n",
              "      <td>0.756824</td>\n",
              "    </tr>\n",
              "    <tr>\n",
              "      <th>9353</th>\n",
              "      <td>2.4</td>\n",
              "      <td>1162.50</td>\n",
              "      <td>-200</td>\n",
              "      <td>11.355157</td>\n",
              "      <td>1027.00</td>\n",
              "      <td>353.3</td>\n",
              "      <td>603.75</td>\n",
              "      <td>179.2</td>\n",
              "      <td>1263.50</td>\n",
              "      <td>1269.00</td>\n",
              "      <td>24.325</td>\n",
              "      <td>23.725000</td>\n",
              "      <td>0.711864</td>\n",
              "    </tr>\n",
              "    <tr>\n",
              "      <th>9354</th>\n",
              "      <td>2.4</td>\n",
              "      <td>1142.00</td>\n",
              "      <td>-200</td>\n",
              "      <td>12.374538</td>\n",
              "      <td>1062.50</td>\n",
              "      <td>293.0</td>\n",
              "      <td>603.25</td>\n",
              "      <td>174.7</td>\n",
              "      <td>1240.75</td>\n",
              "      <td>1092.00</td>\n",
              "      <td>26.900</td>\n",
              "      <td>18.350000</td>\n",
              "      <td>0.640649</td>\n",
              "    </tr>\n",
              "    <tr>\n",
              "      <th>9355</th>\n",
              "      <td>2.1</td>\n",
              "      <td>1002.50</td>\n",
              "      <td>-200</td>\n",
              "      <td>9.547187</td>\n",
              "      <td>960.50</td>\n",
              "      <td>234.5</td>\n",
              "      <td>701.50</td>\n",
              "      <td>155.7</td>\n",
              "      <td>1041.00</td>\n",
              "      <td>769.75</td>\n",
              "      <td>28.325</td>\n",
              "      <td>13.550000</td>\n",
              "      <td>0.513866</td>\n",
              "    </tr>\n",
              "    <tr>\n",
              "      <th>9356</th>\n",
              "      <td>2.2</td>\n",
              "      <td>1070.75</td>\n",
              "      <td>-200</td>\n",
              "      <td>11.932060</td>\n",
              "      <td>1047.25</td>\n",
              "      <td>265.2</td>\n",
              "      <td>654.00</td>\n",
              "      <td>167.7</td>\n",
              "      <td>1128.50</td>\n",
              "      <td>816.00</td>\n",
              "      <td>28.500</td>\n",
              "      <td>13.125000</td>\n",
              "      <td>0.502804</td>\n",
              "    </tr>\n",
              "  </tbody>\n",
              "</table>\n",
              "<p>9357 rows × 13 columns</p>\n",
              "</div>"
            ],
            "text/plain": [
              "      CO(GT)  PT08.S1(CO)  NMHC(GT)  ...       T         RH        AH\n",
              "0        2.6      1360.00       150  ...  13.600  48.875001  0.757754\n",
              "1        2.0      1292.25       112  ...  13.300  47.700000  0.725487\n",
              "2        2.2      1402.00        88  ...  11.900  53.975000  0.750239\n",
              "3        2.2      1375.50        80  ...  11.000  60.000000  0.786713\n",
              "4        1.6      1272.25        51  ...  11.150  59.575001  0.788794\n",
              "...      ...          ...       ...  ...     ...        ...       ...\n",
              "9352     3.1      1314.25      -200  ...  21.850  29.250000  0.756824\n",
              "9353     2.4      1162.50      -200  ...  24.325  23.725000  0.711864\n",
              "9354     2.4      1142.00      -200  ...  26.900  18.350000  0.640649\n",
              "9355     2.1      1002.50      -200  ...  28.325  13.550000  0.513866\n",
              "9356     2.2      1070.75      -200  ...  28.500  13.125000  0.502804\n",
              "\n",
              "[9357 rows x 13 columns]"
            ]
          },
          "metadata": {
            "tags": []
          },
          "execution_count": 20
        }
      ]
    },
    {
      "cell_type": "code",
      "metadata": {
        "id": "VTFBsmnPwCV0",
        "colab_type": "code",
        "colab": {
          "base_uri": "https://localhost:8080/",
          "height": 218
        },
        "outputId": "bb5036e3-c9ac-477e-faed-37c87c2b6b56"
      },
      "source": [
        "Humidity = dataset.AH\n",
        "Humidity"
      ],
      "execution_count": 21,
      "outputs": [
        {
          "output_type": "execute_result",
          "data": {
            "text/plain": [
              "0       0.757754\n",
              "1       0.725487\n",
              "2       0.750239\n",
              "3       0.786713\n",
              "4       0.788794\n",
              "          ...   \n",
              "9352    0.756824\n",
              "9353    0.711864\n",
              "9354    0.640649\n",
              "9355    0.513866\n",
              "9356    0.502804\n",
              "Name: AH, Length: 9357, dtype: float64"
            ]
          },
          "metadata": {
            "tags": []
          },
          "execution_count": 21
        }
      ]
    },
    {
      "cell_type": "code",
      "metadata": {
        "id": "brxvkmwN7I1v",
        "colab_type": "code",
        "colab": {
          "base_uri": "https://localhost:8080/",
          "height": 402
        },
        "outputId": "5e6f508b-6df7-4cee-b5c5-d182ec4acb4c"
      },
      "source": [
        "dataset = dataset.drop(columns=['AH'])\n",
        "dataset"
      ],
      "execution_count": 22,
      "outputs": [
        {
          "output_type": "execute_result",
          "data": {
            "text/html": [
              "<div>\n",
              "<style scoped>\n",
              "    .dataframe tbody tr th:only-of-type {\n",
              "        vertical-align: middle;\n",
              "    }\n",
              "\n",
              "    .dataframe tbody tr th {\n",
              "        vertical-align: top;\n",
              "    }\n",
              "\n",
              "    .dataframe thead th {\n",
              "        text-align: right;\n",
              "    }\n",
              "</style>\n",
              "<table border=\"1\" class=\"dataframe\">\n",
              "  <thead>\n",
              "    <tr style=\"text-align: right;\">\n",
              "      <th></th>\n",
              "      <th>CO(GT)</th>\n",
              "      <th>PT08.S1(CO)</th>\n",
              "      <th>NMHC(GT)</th>\n",
              "      <th>C6H6(GT)</th>\n",
              "      <th>PT08.S2(NMHC)</th>\n",
              "      <th>NOx(GT)</th>\n",
              "      <th>PT08.S3(NOx)</th>\n",
              "      <th>NO2(GT)</th>\n",
              "      <th>PT08.S4(NO2)</th>\n",
              "      <th>PT08.S5(O3)</th>\n",
              "      <th>T</th>\n",
              "      <th>RH</th>\n",
              "    </tr>\n",
              "  </thead>\n",
              "  <tbody>\n",
              "    <tr>\n",
              "      <th>0</th>\n",
              "      <td>2.6</td>\n",
              "      <td>1360.00</td>\n",
              "      <td>150</td>\n",
              "      <td>11.881723</td>\n",
              "      <td>1045.50</td>\n",
              "      <td>166.0</td>\n",
              "      <td>1056.25</td>\n",
              "      <td>113.0</td>\n",
              "      <td>1692.00</td>\n",
              "      <td>1267.50</td>\n",
              "      <td>13.600</td>\n",
              "      <td>48.875001</td>\n",
              "    </tr>\n",
              "    <tr>\n",
              "      <th>1</th>\n",
              "      <td>2.0</td>\n",
              "      <td>1292.25</td>\n",
              "      <td>112</td>\n",
              "      <td>9.397165</td>\n",
              "      <td>954.75</td>\n",
              "      <td>103.0</td>\n",
              "      <td>1173.75</td>\n",
              "      <td>92.0</td>\n",
              "      <td>1558.75</td>\n",
              "      <td>972.25</td>\n",
              "      <td>13.300</td>\n",
              "      <td>47.700000</td>\n",
              "    </tr>\n",
              "    <tr>\n",
              "      <th>2</th>\n",
              "      <td>2.2</td>\n",
              "      <td>1402.00</td>\n",
              "      <td>88</td>\n",
              "      <td>8.997817</td>\n",
              "      <td>939.25</td>\n",
              "      <td>131.0</td>\n",
              "      <td>1140.00</td>\n",
              "      <td>114.0</td>\n",
              "      <td>1554.50</td>\n",
              "      <td>1074.00</td>\n",
              "      <td>11.900</td>\n",
              "      <td>53.975000</td>\n",
              "    </tr>\n",
              "    <tr>\n",
              "      <th>3</th>\n",
              "      <td>2.2</td>\n",
              "      <td>1375.50</td>\n",
              "      <td>80</td>\n",
              "      <td>9.228796</td>\n",
              "      <td>948.25</td>\n",
              "      <td>172.0</td>\n",
              "      <td>1092.00</td>\n",
              "      <td>122.0</td>\n",
              "      <td>1583.75</td>\n",
              "      <td>1203.25</td>\n",
              "      <td>11.000</td>\n",
              "      <td>60.000000</td>\n",
              "    </tr>\n",
              "    <tr>\n",
              "      <th>4</th>\n",
              "      <td>1.6</td>\n",
              "      <td>1272.25</td>\n",
              "      <td>51</td>\n",
              "      <td>6.518224</td>\n",
              "      <td>835.50</td>\n",
              "      <td>131.0</td>\n",
              "      <td>1205.00</td>\n",
              "      <td>116.0</td>\n",
              "      <td>1490.00</td>\n",
              "      <td>1110.00</td>\n",
              "      <td>11.150</td>\n",
              "      <td>59.575001</td>\n",
              "    </tr>\n",
              "    <tr>\n",
              "      <th>...</th>\n",
              "      <td>...</td>\n",
              "      <td>...</td>\n",
              "      <td>...</td>\n",
              "      <td>...</td>\n",
              "      <td>...</td>\n",
              "      <td>...</td>\n",
              "      <td>...</td>\n",
              "      <td>...</td>\n",
              "      <td>...</td>\n",
              "      <td>...</td>\n",
              "      <td>...</td>\n",
              "      <td>...</td>\n",
              "    </tr>\n",
              "    <tr>\n",
              "      <th>9352</th>\n",
              "      <td>3.1</td>\n",
              "      <td>1314.25</td>\n",
              "      <td>-200</td>\n",
              "      <td>13.529605</td>\n",
              "      <td>1101.25</td>\n",
              "      <td>471.7</td>\n",
              "      <td>538.50</td>\n",
              "      <td>189.8</td>\n",
              "      <td>1374.25</td>\n",
              "      <td>1728.50</td>\n",
              "      <td>21.850</td>\n",
              "      <td>29.250000</td>\n",
              "    </tr>\n",
              "    <tr>\n",
              "      <th>9353</th>\n",
              "      <td>2.4</td>\n",
              "      <td>1162.50</td>\n",
              "      <td>-200</td>\n",
              "      <td>11.355157</td>\n",
              "      <td>1027.00</td>\n",
              "      <td>353.3</td>\n",
              "      <td>603.75</td>\n",
              "      <td>179.2</td>\n",
              "      <td>1263.50</td>\n",
              "      <td>1269.00</td>\n",
              "      <td>24.325</td>\n",
              "      <td>23.725000</td>\n",
              "    </tr>\n",
              "    <tr>\n",
              "      <th>9354</th>\n",
              "      <td>2.4</td>\n",
              "      <td>1142.00</td>\n",
              "      <td>-200</td>\n",
              "      <td>12.374538</td>\n",
              "      <td>1062.50</td>\n",
              "      <td>293.0</td>\n",
              "      <td>603.25</td>\n",
              "      <td>174.7</td>\n",
              "      <td>1240.75</td>\n",
              "      <td>1092.00</td>\n",
              "      <td>26.900</td>\n",
              "      <td>18.350000</td>\n",
              "    </tr>\n",
              "    <tr>\n",
              "      <th>9355</th>\n",
              "      <td>2.1</td>\n",
              "      <td>1002.50</td>\n",
              "      <td>-200</td>\n",
              "      <td>9.547187</td>\n",
              "      <td>960.50</td>\n",
              "      <td>234.5</td>\n",
              "      <td>701.50</td>\n",
              "      <td>155.7</td>\n",
              "      <td>1041.00</td>\n",
              "      <td>769.75</td>\n",
              "      <td>28.325</td>\n",
              "      <td>13.550000</td>\n",
              "    </tr>\n",
              "    <tr>\n",
              "      <th>9356</th>\n",
              "      <td>2.2</td>\n",
              "      <td>1070.75</td>\n",
              "      <td>-200</td>\n",
              "      <td>11.932060</td>\n",
              "      <td>1047.25</td>\n",
              "      <td>265.2</td>\n",
              "      <td>654.00</td>\n",
              "      <td>167.7</td>\n",
              "      <td>1128.50</td>\n",
              "      <td>816.00</td>\n",
              "      <td>28.500</td>\n",
              "      <td>13.125000</td>\n",
              "    </tr>\n",
              "  </tbody>\n",
              "</table>\n",
              "<p>9357 rows × 12 columns</p>\n",
              "</div>"
            ],
            "text/plain": [
              "      CO(GT)  PT08.S1(CO)  NMHC(GT)  ...  PT08.S5(O3)       T         RH\n",
              "0        2.6      1360.00       150  ...      1267.50  13.600  48.875001\n",
              "1        2.0      1292.25       112  ...       972.25  13.300  47.700000\n",
              "2        2.2      1402.00        88  ...      1074.00  11.900  53.975000\n",
              "3        2.2      1375.50        80  ...      1203.25  11.000  60.000000\n",
              "4        1.6      1272.25        51  ...      1110.00  11.150  59.575001\n",
              "...      ...          ...       ...  ...          ...     ...        ...\n",
              "9352     3.1      1314.25      -200  ...      1728.50  21.850  29.250000\n",
              "9353     2.4      1162.50      -200  ...      1269.00  24.325  23.725000\n",
              "9354     2.4      1142.00      -200  ...      1092.00  26.900  18.350000\n",
              "9355     2.1      1002.50      -200  ...       769.75  28.325  13.550000\n",
              "9356     2.2      1070.75      -200  ...       816.00  28.500  13.125000\n",
              "\n",
              "[9357 rows x 12 columns]"
            ]
          },
          "metadata": {
            "tags": []
          },
          "execution_count": 22
        }
      ]
    },
    {
      "cell_type": "code",
      "metadata": {
        "id": "EHjUrgzHpGex",
        "colab_type": "code",
        "colab": {
          "base_uri": "https://localhost:8080/",
          "height": 235
        },
        "outputId": "5c27418f-d2f9-4e57-d879-44065389458c"
      },
      "source": [
        "from sklearn.preprocessing import MinMaxScaler\n",
        "scale = MinMaxScaler()\n",
        "dataset = scale.fit_transform(dataset)\n",
        "dataset"
      ],
      "execution_count": 23,
      "outputs": [
        {
          "output_type": "execute_result",
          "data": {
            "text/plain": [
              "array([[0.95611137, 0.69650631, 0.25197984, ..., 0.53897714, 0.87326247,\n",
              "        0.86197939],\n",
              "       [0.95327985, 0.66625739, 0.22462203, ..., 0.43053898, 0.87203598,\n",
              "        0.85790977],\n",
              "       [0.95422369, 0.7152584 , 0.20734341, ..., 0.46790928, 0.86631235,\n",
              "        0.87964326],\n",
              "       ...,\n",
              "       [0.95516753, 0.59917401, 0.        , ..., 0.47452025, 0.92763696,\n",
              "        0.75625595],\n",
              "       [0.95375177, 0.53689028, 0.        , ..., 0.35616564, 0.93346279,\n",
              "        0.73963114],\n",
              "       [0.95422369, 0.56736243, 0.        , ..., 0.37315214, 0.93417825,\n",
              "        0.73815915]])"
            ]
          },
          "metadata": {
            "tags": []
          },
          "execution_count": 23
        }
      ]
    },
    {
      "cell_type": "code",
      "metadata": {
        "id": "3NfFcNlbqtAP",
        "colab_type": "code",
        "colab": {
          "base_uri": "https://localhost:8080/",
          "height": 218
        },
        "outputId": "7d3f59a5-ed6b-43c4-8688-724ea8afddbf"
      },
      "source": [
        "Humidity"
      ],
      "execution_count": 24,
      "outputs": [
        {
          "output_type": "execute_result",
          "data": {
            "text/plain": [
              "0       0.757754\n",
              "1       0.725487\n",
              "2       0.750239\n",
              "3       0.786713\n",
              "4       0.788794\n",
              "          ...   \n",
              "9352    0.756824\n",
              "9353    0.711864\n",
              "9354    0.640649\n",
              "9355    0.513866\n",
              "9356    0.502804\n",
              "Name: AH, Length: 9357, dtype: float64"
            ]
          },
          "metadata": {
            "tags": []
          },
          "execution_count": 24
        }
      ]
    },
    {
      "cell_type": "code",
      "metadata": {
        "id": "LB1ryQFGq7XC",
        "colab_type": "code",
        "colab": {
          "base_uri": "https://localhost:8080/",
          "height": 134
        },
        "outputId": "f10c2d16-df53-43b6-d688-6a2a98b6e8d4"
      },
      "source": [
        "from sklearn.decomposition import PCA\n",
        "pca = PCA(n_components=3)\n",
        "new_dataset = pca.fit_transform(dataset)\n",
        "new_dataset"
      ],
      "execution_count": 63,
      "outputs": [
        {
          "output_type": "execute_result",
          "data": {
            "text/plain": [
              "array([[-0.21138365, -0.1833058 , -0.0166851 ],\n",
              "       [-0.16507   , -0.10169593, -0.11139899],\n",
              "       [-0.19473858, -0.13523235, -0.07124481],\n",
              "       ...,\n",
              "       [-0.27664164, -0.03793361,  0.08641225],\n",
              "       [-0.23272301,  0.07094719, -0.01257324],\n",
              "       [-0.25392779,  0.028889  ,  0.02782045]])"
            ]
          },
          "metadata": {
            "tags": []
          },
          "execution_count": 63
        }
      ]
    },
    {
      "cell_type": "code",
      "metadata": {
        "id": "1_rMLVCYuBv3",
        "colab_type": "code",
        "colab": {
          "base_uri": "https://localhost:8080/",
          "height": 823
        },
        "outputId": "b1bba20a-5e63-47b5-cf04-644c473cf87d"
      },
      "source": [
        "pca.get_covariance()"
      ],
      "execution_count": 64,
      "outputs": [
        {
          "output_type": "execute_result",
          "data": {
            "text/plain": [
              "array([[ 1.32704404e-01,  1.66862749e-03,  4.44038564e-03,\n",
              "        -1.09443198e-03,  5.30058515e-04,  3.03600325e-02,\n",
              "        -1.96419036e-03,  6.09873637e-02, -5.45852124e-03,\n",
              "         3.55883461e-03, -3.49566615e-03, -2.00420539e-03],\n",
              "       [ 1.66862749e-03,  2.49707698e-02,  1.39789007e-03,\n",
              "         1.94212042e-02,  1.83778792e-02,  6.32017407e-03,\n",
              "         2.28520900e-03,  6.55972694e-03,  1.88538590e-02,\n",
              "         2.04150919e-02,  1.98400074e-02,  1.92416388e-02],\n",
              "       [ 4.44038564e-03,  1.39789007e-03,  5.52183098e-03,\n",
              "         1.24014496e-03,  1.28404356e-03,  1.53441228e-03,\n",
              "         2.53174614e-05,  2.60250425e-03,  1.08619982e-03,\n",
              "         1.54651654e-03,  1.16762198e-03,  1.17956199e-03],\n",
              "       [-1.09443198e-03,  1.94212042e-02,  1.24014496e-03,\n",
              "         2.82074667e-02,  1.69482116e-02, -4.28447108e-04,\n",
              "         7.53236327e-03, -1.82596710e-03,  1.97617580e-02,\n",
              "         1.71761874e-02,  2.50025381e-02,  2.42109444e-02],\n",
              "       [ 5.30058515e-04,  1.83778792e-02,  1.28404356e-03,\n",
              "         1.69482116e-02,  2.28162380e-02,  7.59031958e-03,\n",
              "         4.68725985e-04,  7.88012230e-03,  1.73222874e-02,\n",
              "         1.99711832e-02,  1.68430408e-02,  1.63263481e-02],\n",
              "       [ 3.03600325e-02,  6.32017407e-03,  1.53441228e-03,\n",
              "        -4.28447108e-04,  7.59031958e-03,  2.40229748e-02,\n",
              "        -8.23261266e-03,  2.75723543e-02,  2.74999296e-03,\n",
              "         1.16933160e-02, -3.46002604e-03, -3.01847874e-03],\n",
              "       [-1.96419036e-03,  2.28520900e-03,  2.53174614e-05,\n",
              "         7.53236327e-03,  4.68725985e-04, -8.23261266e-03,\n",
              "         1.29323350e-02, -1.00941193e-02,  3.73894062e-03,\n",
              "        -1.76024470e-03,  9.87834294e-03,  9.54610815e-03],\n",
              "       [ 6.09873637e-02,  6.55972694e-03,  2.60250425e-03,\n",
              "        -1.82596710e-03,  7.88012230e-03,  2.75723543e-02,\n",
              "        -1.00941193e-02,  4.92902553e-02,  1.01592329e-03,\n",
              "         1.31450058e-02, -5.85872950e-03, -5.00954457e-03],\n",
              "       [-5.45852124e-03,  1.88538590e-02,  1.08619982e-03,\n",
              "         1.97617580e-02,  1.73222874e-02,  2.74999296e-03,\n",
              "         3.73894062e-03,  1.01592329e-03,  2.39933701e-02,\n",
              "         1.86436505e-02,  2.07369027e-02,  2.00325486e-02],\n",
              "       [ 3.55883461e-03,  2.04150919e-02,  1.54651654e-03,\n",
              "         1.71761874e-02,  1.99711832e-02,  1.16933160e-02,\n",
              "        -1.76024470e-03,  1.31450058e-02,  1.86436505e-02,\n",
              "         2.87457649e-02,  1.63183187e-02,  1.58521048e-02],\n",
              "       [-3.49566615e-03,  1.98400074e-02,  1.16762198e-03,\n",
              "         2.50025381e-02,  1.68430408e-02, -3.46002604e-03,\n",
              "         9.87834294e-03, -5.85872950e-03,  2.07369027e-02,\n",
              "         1.63183187e-02,  3.30957996e-02,  2.69140516e-02],\n",
              "       [-2.00420539e-03,  1.92416388e-02,  1.17956199e-03,\n",
              "         2.42109444e-02,  1.63263481e-02, -3.01847874e-03,\n",
              "         9.54610815e-03, -5.00954457e-03,  2.00325486e-02,\n",
              "         1.58521048e-02,  2.69140516e-02,  3.13274150e-02]])"
            ]
          },
          "metadata": {
            "tags": []
          },
          "execution_count": 64
        }
      ]
    },
    {
      "cell_type": "code",
      "metadata": {
        "id": "KaT034C5ugsn",
        "colab_type": "code",
        "colab": {
          "base_uri": "https://localhost:8080/",
          "height": 34
        },
        "outputId": "50f9b1da-fa16-4394-d9c0-10c48e4c887e"
      },
      "source": [
        "explained_variance=pca.explained_variance_ratio_\n",
        "explained_variance"
      ],
      "execution_count": 65,
      "outputs": [
        {
          "output_type": "execute_result",
          "data": {
            "text/plain": [
              "array([0.4263395 , 0.35139688, 0.10857925])"
            ]
          },
          "metadata": {
            "tags": []
          },
          "execution_count": 65
        }
      ]
    },
    {
      "cell_type": "code",
      "metadata": {
        "id": "EUYma36gu9O3",
        "colab_type": "code",
        "colab": {}
      },
      "source": [
        "from sklearn.model_selection import train_test_split\n",
        "X_train,X_test,Y_train,Y_test = train_test_split(new_dataset,Humidity,test_size=0.3)"
      ],
      "execution_count": 66,
      "outputs": []
    },
    {
      "cell_type": "code",
      "metadata": {
        "id": "lQEIYkrF9GWM",
        "colab_type": "code",
        "colab": {
          "base_uri": "https://localhost:8080/",
          "height": 353
        },
        "outputId": "0ebcafb9-4b34-4acc-84c7-a1286006d292"
      },
      "source": [
        "from keras.models import Sequential\n",
        "from keras.layers import Dense\n",
        "from keras.optimizers import SGD,Adam\n",
        "\n",
        "model = Sequential()\n",
        "\n",
        "model.add(Dense(300,input_shape=(3,),activation='relu'))\n",
        "\n",
        "model.add(Dense(200,activation='relu'))\n",
        "model.add(Dense(100,activation='relu'))\n",
        "model.add(Dense(50,activation='relu'))\n",
        "model.add(Dense(10,activation='relu'))\n",
        "model.add(Dense(1,activation='linear'))\n",
        "\n",
        "model.compile(Adam(lr=0.01),'mean_squared_error')\n",
        "\n",
        "model.summary()\n"
      ],
      "execution_count": 67,
      "outputs": [
        {
          "output_type": "stream",
          "text": [
            "Model: \"sequential_8\"\n",
            "_________________________________________________________________\n",
            "Layer (type)                 Output Shape              Param #   \n",
            "=================================================================\n",
            "dense_47 (Dense)             (None, 300)               1200      \n",
            "_________________________________________________________________\n",
            "dense_48 (Dense)             (None, 200)               60200     \n",
            "_________________________________________________________________\n",
            "dense_49 (Dense)             (None, 100)               20100     \n",
            "_________________________________________________________________\n",
            "dense_50 (Dense)             (None, 50)                5050      \n",
            "_________________________________________________________________\n",
            "dense_51 (Dense)             (None, 10)                510       \n",
            "_________________________________________________________________\n",
            "dense_52 (Dense)             (None, 1)                 11        \n",
            "=================================================================\n",
            "Total params: 87,071\n",
            "Trainable params: 87,071\n",
            "Non-trainable params: 0\n",
            "_________________________________________________________________\n"
          ],
          "name": "stdout"
        }
      ]
    },
    {
      "cell_type": "code",
      "metadata": {
        "id": "zlTT-J7d9Qky",
        "colab_type": "code",
        "colab": {
          "base_uri": "https://localhost:8080/",
          "height": 1000
        },
        "outputId": "d209ba1d-9c57-42c7-b6ac-57ad48a70f26"
      },
      "source": [
        "model.fit(X_train,Y_train,epochs=100)"
      ],
      "execution_count": 68,
      "outputs": [
        {
          "output_type": "stream",
          "text": [
            "Epoch 1/100\n",
            "205/205 [==============================] - 0s 2ms/step - loss: 189.6000\n",
            "Epoch 2/100\n",
            "205/205 [==============================] - 0s 2ms/step - loss: 0.5898\n",
            "Epoch 3/100\n",
            "205/205 [==============================] - 0s 2ms/step - loss: 1.5865\n",
            "Epoch 4/100\n",
            "205/205 [==============================] - 0s 2ms/step - loss: 0.5998\n",
            "Epoch 5/100\n",
            "205/205 [==============================] - 0s 2ms/step - loss: 278.1802\n",
            "Epoch 6/100\n",
            "205/205 [==============================] - 0s 2ms/step - loss: 3.7599\n",
            "Epoch 7/100\n",
            "205/205 [==============================] - 0s 2ms/step - loss: 0.0910\n",
            "Epoch 8/100\n",
            "205/205 [==============================] - 0s 2ms/step - loss: 0.0872\n",
            "Epoch 9/100\n",
            "205/205 [==============================] - 0s 2ms/step - loss: 0.0818\n",
            "Epoch 10/100\n",
            "205/205 [==============================] - 0s 2ms/step - loss: 0.0917\n",
            "Epoch 11/100\n",
            "205/205 [==============================] - 0s 2ms/step - loss: 0.0826\n",
            "Epoch 12/100\n",
            "205/205 [==============================] - 0s 2ms/step - loss: 0.0809\n",
            "Epoch 13/100\n",
            "205/205 [==============================] - 0s 2ms/step - loss: 0.5387\n",
            "Epoch 14/100\n",
            "205/205 [==============================] - 0s 2ms/step - loss: 3.3458\n",
            "Epoch 15/100\n",
            "205/205 [==============================] - 0s 2ms/step - loss: 0.0810\n",
            "Epoch 16/100\n",
            "205/205 [==============================] - 0s 2ms/step - loss: 0.0841\n",
            "Epoch 17/100\n",
            "205/205 [==============================] - 0s 2ms/step - loss: 5.1752\n",
            "Epoch 18/100\n",
            "205/205 [==============================] - 0s 2ms/step - loss: 0.9411\n",
            "Epoch 19/100\n",
            "205/205 [==============================] - 0s 2ms/step - loss: 0.0859\n",
            "Epoch 20/100\n",
            "205/205 [==============================] - 0s 2ms/step - loss: 0.1264\n",
            "Epoch 21/100\n",
            "205/205 [==============================] - 0s 2ms/step - loss: 0.1002\n",
            "Epoch 22/100\n",
            "205/205 [==============================] - 0s 2ms/step - loss: 0.0819\n",
            "Epoch 23/100\n",
            "205/205 [==============================] - 0s 2ms/step - loss: 0.0971\n",
            "Epoch 24/100\n",
            "205/205 [==============================] - 0s 2ms/step - loss: 79.5785\n",
            "Epoch 25/100\n",
            "205/205 [==============================] - 0s 2ms/step - loss: 17.9596\n",
            "Epoch 26/100\n",
            "205/205 [==============================] - 0s 2ms/step - loss: 0.7258\n",
            "Epoch 27/100\n",
            "205/205 [==============================] - 0s 2ms/step - loss: 0.1314\n",
            "Epoch 28/100\n",
            "205/205 [==============================] - 0s 2ms/step - loss: 0.3124\n",
            "Epoch 29/100\n",
            "205/205 [==============================] - 0s 2ms/step - loss: 4.4101\n",
            "Epoch 30/100\n",
            "205/205 [==============================] - 0s 2ms/step - loss: 0.1891\n",
            "Epoch 31/100\n",
            "205/205 [==============================] - 0s 2ms/step - loss: 0.2206\n",
            "Epoch 32/100\n",
            "205/205 [==============================] - 0s 2ms/step - loss: 0.1403\n",
            "Epoch 33/100\n",
            "205/205 [==============================] - 0s 2ms/step - loss: 2.3464\n",
            "Epoch 34/100\n",
            "205/205 [==============================] - 0s 2ms/step - loss: 4.1291\n",
            "Epoch 35/100\n",
            "205/205 [==============================] - 0s 2ms/step - loss: 0.0791\n",
            "Epoch 36/100\n",
            "205/205 [==============================] - 0s 2ms/step - loss: 0.0825\n",
            "Epoch 37/100\n",
            "205/205 [==============================] - 0s 2ms/step - loss: 3.3684\n",
            "Epoch 38/100\n",
            "205/205 [==============================] - 0s 2ms/step - loss: 0.3536\n",
            "Epoch 39/100\n",
            "205/205 [==============================] - 0s 2ms/step - loss: 0.9173\n",
            "Epoch 40/100\n",
            "205/205 [==============================] - 0s 2ms/step - loss: 0.2271\n",
            "Epoch 41/100\n",
            "205/205 [==============================] - 0s 2ms/step - loss: 0.5037\n",
            "Epoch 42/100\n",
            "205/205 [==============================] - 0s 2ms/step - loss: 1.9100\n",
            "Epoch 43/100\n",
            "205/205 [==============================] - 0s 2ms/step - loss: 6.7593\n",
            "Epoch 44/100\n",
            "205/205 [==============================] - 0s 2ms/step - loss: 3.4201\n",
            "Epoch 45/100\n",
            "205/205 [==============================] - 0s 2ms/step - loss: 0.0921\n",
            "Epoch 46/100\n",
            "205/205 [==============================] - 0s 2ms/step - loss: 0.1123\n",
            "Epoch 47/100\n",
            "205/205 [==============================] - 0s 2ms/step - loss: 0.0818\n",
            "Epoch 48/100\n",
            "205/205 [==============================] - 0s 2ms/step - loss: 0.1302\n",
            "Epoch 49/100\n",
            "205/205 [==============================] - 0s 2ms/step - loss: 5.9959\n",
            "Epoch 50/100\n",
            "205/205 [==============================] - 0s 2ms/step - loss: 0.8523\n",
            "Epoch 51/100\n",
            "205/205 [==============================] - 0s 2ms/step - loss: 0.0783\n",
            "Epoch 52/100\n",
            "205/205 [==============================] - 0s 2ms/step - loss: 0.0977\n",
            "Epoch 53/100\n",
            "205/205 [==============================] - 0s 2ms/step - loss: 0.0910\n",
            "Epoch 54/100\n",
            "205/205 [==============================] - 0s 2ms/step - loss: 8.0967\n",
            "Epoch 55/100\n",
            "205/205 [==============================] - 0s 2ms/step - loss: 1.2405\n",
            "Epoch 56/100\n",
            "205/205 [==============================] - 0s 2ms/step - loss: 1.0939\n",
            "Epoch 57/100\n",
            "205/205 [==============================] - 0s 2ms/step - loss: 0.0950\n",
            "Epoch 58/100\n",
            "205/205 [==============================] - 0s 2ms/step - loss: 0.2666\n",
            "Epoch 59/100\n",
            "205/205 [==============================] - 0s 2ms/step - loss: 5.8784\n",
            "Epoch 60/100\n",
            "205/205 [==============================] - 0s 2ms/step - loss: 10.5151\n",
            "Epoch 61/100\n",
            "205/205 [==============================] - 0s 2ms/step - loss: 0.2407\n",
            "Epoch 62/100\n",
            "205/205 [==============================] - 0s 2ms/step - loss: 0.0962\n",
            "Epoch 63/100\n",
            "205/205 [==============================] - 0s 2ms/step - loss: 0.0802\n",
            "Epoch 64/100\n",
            "205/205 [==============================] - 0s 2ms/step - loss: 0.0769\n",
            "Epoch 65/100\n",
            "205/205 [==============================] - 0s 2ms/step - loss: 0.0842\n",
            "Epoch 66/100\n",
            "205/205 [==============================] - 0s 2ms/step - loss: 0.0766\n",
            "Epoch 67/100\n",
            "205/205 [==============================] - 0s 2ms/step - loss: 0.0749\n",
            "Epoch 68/100\n",
            "205/205 [==============================] - 0s 2ms/step - loss: 5.7217\n",
            "Epoch 69/100\n",
            "205/205 [==============================] - 0s 2ms/step - loss: 1.3157\n",
            "Epoch 70/100\n",
            "205/205 [==============================] - 0s 2ms/step - loss: 0.0829\n",
            "Epoch 71/100\n",
            "205/205 [==============================] - 0s 2ms/step - loss: 0.1022\n",
            "Epoch 72/100\n",
            "205/205 [==============================] - 0s 2ms/step - loss: 0.0971\n",
            "Epoch 73/100\n",
            "205/205 [==============================] - 0s 2ms/step - loss: 0.0802\n",
            "Epoch 74/100\n",
            "205/205 [==============================] - 0s 2ms/step - loss: 2.9508\n",
            "Epoch 75/100\n",
            "205/205 [==============================] - 0s 2ms/step - loss: 7.8587\n",
            "Epoch 76/100\n",
            "205/205 [==============================] - 0s 2ms/step - loss: 0.0812\n",
            "Epoch 77/100\n",
            "205/205 [==============================] - 0s 2ms/step - loss: 0.0752\n",
            "Epoch 78/100\n",
            "205/205 [==============================] - 0s 2ms/step - loss: 0.0818\n",
            "Epoch 79/100\n",
            "205/205 [==============================] - 0s 2ms/step - loss: 3.4118\n",
            "Epoch 80/100\n",
            "205/205 [==============================] - 0s 2ms/step - loss: 0.1754\n",
            "Epoch 81/100\n",
            "205/205 [==============================] - 0s 2ms/step - loss: 0.1640\n",
            "Epoch 82/100\n",
            "205/205 [==============================] - 0s 2ms/step - loss: 0.0808\n",
            "Epoch 83/100\n",
            "205/205 [==============================] - 0s 2ms/step - loss: 0.0689\n",
            "Epoch 84/100\n",
            "205/205 [==============================] - 0s 2ms/step - loss: 1.1212\n",
            "Epoch 85/100\n",
            "205/205 [==============================] - 0s 2ms/step - loss: 0.4281\n",
            "Epoch 86/100\n",
            "205/205 [==============================] - 0s 2ms/step - loss: 0.4214\n",
            "Epoch 87/100\n",
            "205/205 [==============================] - 0s 2ms/step - loss: 3.1475\n",
            "Epoch 88/100\n",
            "205/205 [==============================] - 0s 2ms/step - loss: 0.3667\n",
            "Epoch 89/100\n",
            "205/205 [==============================] - 0s 2ms/step - loss: 0.0735\n",
            "Epoch 90/100\n",
            "205/205 [==============================] - 0s 2ms/step - loss: 0.1032\n",
            "Epoch 91/100\n",
            "205/205 [==============================] - 0s 2ms/step - loss: 0.1198\n",
            "Epoch 92/100\n",
            "205/205 [==============================] - 0s 2ms/step - loss: 0.1478\n",
            "Epoch 93/100\n",
            "205/205 [==============================] - 0s 2ms/step - loss: 0.4847\n",
            "Epoch 94/100\n",
            "205/205 [==============================] - 0s 2ms/step - loss: 0.1306\n",
            "Epoch 95/100\n",
            "205/205 [==============================] - 0s 2ms/step - loss: 3.0301\n",
            "Epoch 96/100\n",
            "205/205 [==============================] - 0s 2ms/step - loss: 22.2536\n",
            "Epoch 97/100\n",
            "205/205 [==============================] - 0s 2ms/step - loss: 0.1200\n",
            "Epoch 98/100\n",
            "205/205 [==============================] - 0s 2ms/step - loss: 0.0751\n",
            "Epoch 99/100\n",
            "205/205 [==============================] - 0s 2ms/step - loss: 0.0630\n",
            "Epoch 100/100\n",
            "205/205 [==============================] - 0s 2ms/step - loss: 0.0634\n"
          ],
          "name": "stdout"
        },
        {
          "output_type": "execute_result",
          "data": {
            "text/plain": [
              "<tensorflow.python.keras.callbacks.History at 0x7f35100af710>"
            ]
          },
          "metadata": {
            "tags": []
          },
          "execution_count": 68
        }
      ]
    },
    {
      "cell_type": "code",
      "metadata": {
        "id": "PeBpSRWGCfbU",
        "colab_type": "code",
        "colab": {
          "base_uri": "https://localhost:8080/",
          "height": 50
        },
        "outputId": "57d7ce04-a7cb-4db5-c175-4d19a5fd1752"
      },
      "source": [
        "result = model.evaluate(X_test,Y_test)\n",
        "accuracy = 1 - result\n",
        "accuracy"
      ],
      "execution_count": 69,
      "outputs": [
        {
          "output_type": "stream",
          "text": [
            "88/88 [==============================] - 0s 1ms/step - loss: 0.0744\n"
          ],
          "name": "stdout"
        },
        {
          "output_type": "execute_result",
          "data": {
            "text/plain": [
              "0.9256371334195137"
            ]
          },
          "metadata": {
            "tags": []
          },
          "execution_count": 69
        }
      ]
    },
    {
      "cell_type": "markdown",
      "metadata": {
        "id": "dZF1ylBNGkDs",
        "colab_type": "text"
      },
      "source": [
        "When ,\n",
        "\n",
        "    Components = 12(All)    \n",
        "\n",
        "    Accuracy = 0.9734952803701162\n",
        "\n",
        "    Components = 9\n",
        "\n",
        "    Accuracy = 0.9838642477989197\n",
        "\n",
        "    Components = 6\n",
        "\n",
        "    Accuracy = 0.9638857655227184\n",
        "\n",
        "    Components = 3\n",
        "\n",
        "    Accuracy = 0.9256371334195137\n",
        "\n"
      ]
    }
  ]
}